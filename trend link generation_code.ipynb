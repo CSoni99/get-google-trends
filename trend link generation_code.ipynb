{
 "cells": [
  {
   "cell_type": "code",
   "execution_count": 57,
   "id": "3fa7d0b5",
   "metadata": {},
   "outputs": [
    {
     "name": "stdout",
     "output_type": "stream",
     "text": [
      "Enter start date (YYYY-MM-DD): 2023-01-01\n",
      "Enter end date (YYYY-MM-DD): 2024-01-01\n",
      "Enter keyword: cricket\n",
      "       Sno                                             Values\n",
      "0        1  https://trends.google.com/trends/explore?date=...\n",
      "1        2  https://trends.google.com/trends/explore?date=...\n",
      "2        3  https://trends.google.com/trends/explore?date=...\n",
      "3        4  https://trends.google.com/trends/explore?date=...\n",
      "4        5  https://trends.google.com/trends/explore?date=...\n",
      "...    ...                                                ...\n",
      "2922  2923  https://trends.google.com/trends/explore?date=...\n",
      "2923  2924  https://trends.google.com/trends/explore?date=...\n",
      "2924  2925  https://trends.google.com/trends/explore?date=...\n",
      "2925  2926  https://trends.google.com/trends/explore?date=...\n",
      "2926  2927  https://trends.google.com/trends/explore?date=...\n",
      "\n",
      "[2927 rows x 2 columns]\n"
     ]
    }
   ],
   "source": [
    "import pandas as pd\n",
    "from datetime import datetime, timedelta\n",
    "\n",
    "# Function to generate links with sequential interval of 4 hours and 1-hour overlap\n",
    "def generate_links(start_date, end_date, keyword):\n",
    "    start = datetime.strptime(start_date, '%Y-%m-%d')\n",
    "    end = datetime.strptime(end_date, '%Y-%m-%d') + timedelta(days=1)  # Adjust end date to include full last day\n",
    "    delta = timedelta(hours=5)  # Duration of each link\n",
    "    overlap = timedelta(hours=2)  # Overlap between successive links\n",
    "    \n",
    "    links = []\n",
    "    while start + delta <= end:\n",
    "        end_time = start + delta - timedelta(hours=1)  # Subtract 1 hour to ensure links end at 23:00\n",
    "        link = f\"https://trends.google.com/trends/explore?date={start.strftime('%Y-%m-%dT%H%%20')}{'%20'}{end_time.strftime('%Y-%m-%dT%H')}&geo=IN&q={keyword}&hl=en\"\n",
    "        links.append(link)\n",
    "        start += (delta - overlap)  # Move start time forward by 3 hours for next link with overlap\n",
    "    return links\n",
    "\n",
    "# Function to create dataframe\n",
    "def create_dataframe(links):\n",
    "    df = pd.DataFrame({\"Sno\": range(1, len(links) + 1),\n",
    "                       \"Values\": links})\n",
    "    return df\n",
    "\n",
    "# Taking inputs from user\n",
    "start_date = input(\"Enter start date (YYYY-MM-DD): \")\n",
    "end_date = input(\"Enter end date (YYYY-MM-DD): \")\n",
    "keyword = input(\"Enter keyword: \")\n",
    "\n",
    "# Generating links\n",
    "links = generate_links(start_date, end_date, keyword)\n",
    "\n",
    "# Creating dataframe\n",
    "df = create_dataframe(links)\n",
    "\n",
    "# Displaying dataframe\n",
    "print(df)\n"
   ]
  },
  {
   "cell_type": "code",
   "execution_count": 58,
   "id": "b025e8f6",
   "metadata": {},
   "outputs": [
    {
     "data": {
      "text/plain": [
       "'https://trends.google.com/trends/explore?date=2023-01-01T00%20%202023-01-01T04&geo=IN&q=cricket&hl=en'"
      ]
     },
     "execution_count": 58,
     "metadata": {},
     "output_type": "execute_result"
    }
   ],
   "source": [
    "df['Values'][0]"
   ]
  },
  {
   "cell_type": "code",
   "execution_count": 59,
   "id": "bfd139e4",
   "metadata": {},
   "outputs": [
    {
     "data": {
      "text/plain": [
       "'https://trends.google.com/trends/explore?date=2023-01-01T03%20%202023-01-01T07&geo=IN&q=cricket&hl=en'"
      ]
     },
     "execution_count": 59,
     "metadata": {},
     "output_type": "execute_result"
    }
   ],
   "source": [
    "df['Values'][1]"
   ]
  },
  {
   "cell_type": "code",
   "execution_count": null,
   "id": "78c78928",
   "metadata": {},
   "outputs": [],
   "source": []
  }
 ],
 "metadata": {
  "kernelspec": {
   "display_name": "Python 3 (ipykernel)",
   "language": "python",
   "name": "python3"
  },
  "language_info": {
   "codemirror_mode": {
    "name": "ipython",
    "version": 3
   },
   "file_extension": ".py",
   "mimetype": "text/x-python",
   "name": "python",
   "nbconvert_exporter": "python",
   "pygments_lexer": "ipython3",
   "version": "3.11.5"
  }
 },
 "nbformat": 4,
 "nbformat_minor": 5
}
